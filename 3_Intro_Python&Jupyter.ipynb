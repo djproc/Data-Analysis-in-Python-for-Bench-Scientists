{
 "cells": [
  {
   "cell_type": "markdown",
   "metadata": {},
   "source": [
    "<pre>\n",
    "██████╗ ██╗   ██╗████████╗██╗  ██╗ ██████╗ ███╗   ██╗\n",
    "██╔══██╗╚██╗ ██╔╝╚══██╔══╝██║  ██║██╔═══██╗████╗  ██║\n",
    "██████╔╝ ╚████╔╝    ██║   ███████║██║   ██║██╔██╗ ██║\n",
    "██╔═══╝   ╚██╔╝     ██║   ██╔══██║██║   ██║██║╚██╗██║\n",
    "██║        ██║      ██║   ██║  ██║╚██████╔╝██║ ╚████║\n",
    "╚═╝        ╚═╝      ╚═╝   ╚═╝  ╚═╝ ╚═════╝ ╚═╝  ╚═══╝\n",
    "                                                    "
   ]
  },
  {
   "cell_type": "code",
   "execution_count": 2,
   "metadata": {},
   "outputs": [],
   "source": [
    "# This is a single cell of a Jupyter notebook running the iPython (interactrive Python kernel) kernel\n",
    "# To run this cell, click it so it is highlighted, then simply press [ SHIFT + ENTER ] simultaneously (i.e. holding down SHIFT, then pressing ENTER)"
   ]
  },
  {
   "cell_type": "code",
   "execution_count": 3,
   "metadata": {},
   "outputs": [],
   "source": [
    "# <------- Did you see a number appeared in the brackets to the left of the first cell? Press [ SHIFT + ENTER ] again...  "
   ]
  },
  {
   "cell_type": "code",
   "execution_count": 4,
   "metadata": {},
   "outputs": [],
   "source": [
    "# <------------- See how that number increases? \n",
    "# ------------------> Press [ SHIFT + ENTER ]"
   ]
  },
  {
   "cell_type": "code",
   "execution_count": null,
   "metadata": {},
   "outputs": [],
   "source": [
    "# <--------------------- That's how we can tell that a cell has been run and the order in which they've been run! \n",
    "# ----------------------------->  Press [ SHIFT + ENTER ] "
   ]
  },
  {
   "cell_type": "code",
   "execution_count": 5,
   "metadata": {},
   "outputs": [],
   "source": [
    "# But why is there a \"#\" at the start of each line of code?  \n",
    "# ------------------------------------> Press [ SHIFT + ENTER ]"
   ]
  },
  {
   "cell_type": "code",
   "execution_count": 7,
   "metadata": {},
   "outputs": [],
   "source": [
    "# Let's see what happens when there isn't a \"#\"...\n",
    "# -----------> Press [ SHIFT + ENTER ]"
   ]
  },
  {
   "cell_type": "raw",
   "metadata": {},
   "source": [
    "Uh oh! There was a syntax error! Basically, this means that the iPython kernel doesn't understand what you're saying because you tried to run written English as a programming language... \n",
    "\n",
    "Whenever you run code ~through~ the iPython kernel, it has to have the correct \"Pythonic\" syntax.\n",
    "You should be able to see a small \"^\" or caret symbol in the error above at the point iPython didn't understand you (this is very helpful for debugging)\n",
    "\n",
    "Then why does running this cell not result in an error?! That's because it is a \"raw\" cell. You can change it to \"code\" or \"markdown\" (formatted text commonly use to write mathematical equations) using the dopdown box above.\n",
    "\n",
    "Cycle through the options for the above cell , press [ SHIFT + ENTER] and see what happens..."
   ]
  },
  {
   "cell_type": "code",
   "execution_count": 8,
   "metadata": {},
   "outputs": [],
   "source": [
    "# Having a \"#\" at the start of a line of python code, turns it into a comment, widely used for code annotation \n",
    "# ----> Press [ SHIFT + ENTER ] (This is the last time i'll tell you to do this, but you've got the hang of it!)"
   ]
  },
  {
   "cell_type": "code",
   "execution_count": 9,
   "metadata": {},
   "outputs": [
    {
     "data": {
      "text/plain": [
       "\" Note: Triple quotes can be used for multi-line comments (or text art...) \\n ____             __     __                                       __     \\n/\\\\  _`\\\\          /\\\\ \\\\__ /\\\\ \\\\                        __           /\\\\ \\\\    \\n\\\\ \\\\ \\\\L\\\\ \\\\ __  __ \\\\ \\\\ ,_\\\\ \\\\ \\\\___      ___     ___  /\\\\_\\\\     __   \\\\ \\\\ \\\\      \\n \\\\ \\\\ ,__//\\\\ \\\\/\\\\ \\\\ \\\\ \\\\ \\\\/ \\\\ \\\\  _ `\\\\   / __`\\\\ /' _ `\\\\/\\\\ \\\\   /'___\\\\ \\\\ \\\\ \\\\  \\n  \\\\ \\\\ \\\\/ \\\\ \\\\ \\\\_\\\\ \\\\ \\\\ \\\\ \\\\_ \\\\ \\\\ \\\\ \\\\ \\\\ /\\\\ \\\\L\\\\ \\\\/\\\\ \\\\/\\\\ \\\\ \\\\ \\\\ /\\\\ \\\\__/  \\\\ \\\\_\\\\ \\n   \\\\ \\\\_\\\\  \\\\/`____ \\\\ \\\\ \\\\__\\\\ \\\\ \\\\_\\\\ \\\\_\\\\ \\\\____/\\\\ \\\\_\\\\ \\\\_\\\\ \\\\_\\\\ \\\\____\\\\  \\\\/\\\\_    \\\\/_/   `/___/> \\\\ \\\\/__/  \\\\/_/\\\\/_/ \\\\/___/  \\\\/_/\\\\/_/ \\\\/_/ \\\\/____/   \\\\/_/\\n              /\\\\___/                                                             \\n              \\\\/__/     \\n\""
      ]
     },
     "execution_count": 9,
     "metadata": {},
     "output_type": "execute_result"
    }
   ],
   "source": [
    "\"\"\" Note: Triple quotes can be used for multi-line comments (or text art...) \n",
    " ____             __     __                                       __     \n",
    "/\\  _`\\          /\\ \\__ /\\ \\                        __           /\\ \\    \n",
    "\\ \\ \\L\\ \\ __  __ \\ \\ ,_\\\\ \\ \\___      ___     ___  /\\_\\     __   \\ \\ \\      \n",
    " \\ \\ ,__//\\ \\/\\ \\ \\ \\ \\/ \\ \\  _ `\\   / __`\\ /' _ `\\\\/\\ \\   /'___\\ \\ \\ \\  \n",
    "  \\ \\ \\/ \\ \\ \\_\\ \\ \\ \\ \\_ \\ \\ \\ \\ \\ /\\ \\L\\ \\/\\ \\/\\ \\\\ \\ \\ /\\ \\__/  \\ \\_\\ \n",
    "   \\ \\_\\  \\/`____ \\ \\ \\__\\ \\ \\_\\ \\_\\\\ \\____/\\ \\_\\ \\_\\\\ \\_\\\\ \\____\\  \\/\\_\\\n",
    "    \\/_/   `/___/> \\ \\/__/  \\/_/\\/_/ \\/___/  \\/_/\\/_/ \\/_/ \\/____/   \\/_/\n",
    "              /\\___/                                                             \n",
    "              \\/__/     \n",
    "\"\"\""
   ]
  },
  {
   "cell_type": "code",
   "execution_count": 10,
   "metadata": {},
   "outputs": [
    {
     "name": "stdout",
     "output_type": "stream",
     "text": [
      "4.0\n"
     ]
    }
   ],
   "source": [
    "# using a hash is also useful to prevent a line of code from running (called \"commenting out\" a line of code).\n",
    "# e.g. Run the below cell and view the output beneath the cell\n",
    "\n",
    "var_a = 12\n",
    "#var_a = 15\n",
    "var_b = 3\n",
    "var_c = var_a / var_b\n",
    "print(var_c)"
   ]
  },
  {
   "cell_type": "code",
   "execution_count": 11,
   "metadata": {},
   "outputs": [
    {
     "name": "stdout",
     "output_type": "stream",
     "text": [
      "5.0\n"
     ]
    }
   ],
   "source": [
    "# The same code is copied below...\n",
    "# Delete the hash on line 4 (show line numbers using [SHIFT + L]), then run this cell \n",
    "\n",
    "var_a = 12\n",
    "var_a = 15\n",
    "var_b = 3\n",
    "var_c = var_a / var_b\n",
    "print(var_c)"
   ]
  },
  {
   "cell_type": "code",
   "execution_count": 12,
   "metadata": {},
   "outputs": [],
   "source": [
    "# Congrats! You just ran your first cells of Python code! \n",
    "# Did you notice that the value of the variable \"var_a\" was overwritten when you set it twice? "
   ]
  },
  {
   "cell_type": "code",
   "execution_count": null,
   "metadata": {},
   "outputs": [],
   "source": [
    "### TRY IT YOURSELF ACTIVITY ###\n",
    "# In one line, subtract var_b from var_a and and multiply it by 10 to the power of var_c and then print the results \n",
    "10**var_c\n"
   ]
  },
  {
   "cell_type": "code",
   "execution_count": 13,
   "metadata": {},
   "outputs": [
    {
     "name": "stdout",
     "output_type": "stream",
     "text": [
      "1200000.0\n"
     ]
    }
   ],
   "source": [
    "### HIDDEN ANSWER ###\n",
    "print((var_a-var_b)*(10**var_c))"
   ]
  },
  {
   "cell_type": "markdown",
   "metadata": {},
   "source": [
    "***"
   ]
  },
  {
   "cell_type": "code",
   "execution_count": 1,
   "metadata": {},
   "outputs": [
    {
     "data": {
      "image/jpeg": "[encoded data removed]",
      "text/html": [
       "\n",
       "        <iframe\n",
       "            width=\"800\"\n",
       "            height=\"300\"\n",
       "            src=\"https://www.youtube.com/embed/1GSjbWt0c9M\"\n",
       "            frameborder=\"0\"\n",
       "            allowfullscreen\n",
       "        ></iframe>\n",
       "        "
      ],
      "text/plain": [
       "<IPython.lib.display.YouTubeVideo at 0x213360e7d90>"
      ]
     },
     "execution_count": 1,
     "metadata": {},
     "output_type": "execute_result"
    }
   ],
   "source": [
    "### CODEBREAK ###\n",
    "# If you want to learn more about how these variables are stored and manipulated on your computer watch the video below, the whole seriese is excellent and well worth binge-watching!\n",
    "from IPython.display import YouTubeVideo\n",
    "YouTubeVideo('1GSjbWt0c9M', width=800, height=300)"
   ]
  },
  {
   "cell_type": "code",
   "execution_count": 14,
   "metadata": {},
   "outputs": [
    {
     "data": {
      "text/plain": [
       "'00001111'"
      ]
     },
     "execution_count": 14,
     "metadata": {},
     "output_type": "execute_result"
    }
   ],
   "source": [
    "# E.g. what does var_a look like in 8-bit bianry code? e.g. https://www.h-schmidt.net/FloatConverter/IEEE754.html\n",
    "'{0:08b}'.format(var_a)"
   ]
  },
  {
   "cell_type": "markdown",
   "metadata": {},
   "source": [
    "***"
   ]
  },
  {
   "cell_type": "code",
   "execution_count": 15,
   "metadata": {},
   "outputs": [
    {
     "name": "stdout",
     "output_type": "stream",
     "text": [
      "These variables still return values: 15 3 5.0\n"
     ]
    }
   ],
   "source": [
    "# The values we created above will persist within the notebook (until they are overwritten or deleted)\n",
    "print(\"These variables still return values:\", var_a, var_b, var_c)"
   ]
  },
  {
   "cell_type": "code",
   "execution_count": 16,
   "metadata": {},
   "outputs": [
    {
     "name": "stdout",
     "output_type": "stream",
     "text": [
      "These variables still return values: var_a = 15, var_b = 3, var_c = 5.0\n"
     ]
    }
   ],
   "source": [
    "# f-string formatting can be used to display these values with more context (by mixing string text and varaible values)\n",
    "# NOTE: f-strings need an f at the start and curly brackets around the variable names, which will be inserted into the string at that position\n",
    "print(f\"These variables still return values: var_a = {var_a}, var_b = {var_b}, var_c = {var_c}\")"
   ]
  },
  {
   "cell_type": "code",
   "execution_count": 17,
   "metadata": {},
   "outputs": [
    {
     "name": "stdout",
     "output_type": "stream",
     "text": [
      "These variables still return values: \n",
      "var_a = 15\n",
      "var_b = 3\n",
      "var_c = 5.0\n"
     ]
    }
   ],
   "source": [
    "# String outputs can be displayed on separate lines using [ backslash + n ] or \"\\n\" \n",
    "print(f\"These variables still return values: \\nvar_a = {var_a}\\nvar_b = {var_b}\\nvar_c = {var_c}\") # NOTE: f-strings need an f at the start and curly brackets around the variable names"
   ]
  },
  {
   "cell_type": "code",
   "execution_count": null,
   "metadata": {},
   "outputs": [],
   "source": [
    "### TRY IT YOURSELF ACTIVITY ###\n",
    "# Make your own f-string, mixing a variable value with a string and print the results! \n",
    "\n"
   ]
  },
  {
   "cell_type": "code",
   "execution_count": 18,
   "metadata": {},
   "outputs": [
    {
     "name": "stdout",
     "output_type": "stream",
     "text": [
      "I'm a string!\n"
     ]
    }
   ],
   "source": [
    "# But what is a string anyway?\n",
    "myString = \"I'm a string!\"\n",
    "print(myString)"
   ]
  },
  {
   "cell_type": "code",
   "execution_count": 19,
   "metadata": {},
   "outputs": [
    {
     "data": {
      "text/plain": [
       "str"
      ]
     },
     "execution_count": 19,
     "metadata": {},
     "output_type": "execute_result"
    }
   ],
   "source": [
    "# A string is a data type in Python\n",
    "# We can check the type of any variable using\n",
    "type(myString)"
   ]
  },
  {
   "cell_type": "code",
   "execution_count": 20,
   "metadata": {},
   "outputs": [
    {
     "name": "stdout",
     "output_type": "stream",
     "text": [
      "01001001 00100111 01101101 00100000 01100001 00100000 01110011 01110100 01110010 01101001 01101110 01100111 00100001\n"
     ]
    }
   ],
   "source": [
    "#What does this look like in bianry code?\n",
    "print(\" \".join(f\"{ord(i):08b}\" for i in myString))"
   ]
  },
  {
   "cell_type": "code",
   "execution_count": 21,
   "metadata": {},
   "outputs": [],
   "source": [
    "# A ~string~ is a STRING of BYTES!!! "
   ]
  },
  {
   "cell_type": "code",
   "execution_count": 22,
   "metadata": {},
   "outputs": [
    {
     "name": "stdout",
     "output_type": "stream",
     "text": [
      "var_a is a       String         (str)?  ----> False\n",
      "var_a is a    Floating Point   (float)? ----> False\n",
      "var_a is an      Integer        (int)?  ----> True\n"
     ]
    }
   ],
   "source": [
    "# There are qyite a few other data types in Python....\n",
    "# Python is easier than some other languages because it implicity understands types\n",
    "# What it the type of variables a?\n",
    "print(\"var_a is a       String         (str)?  ---->\", type(var_a) == str)\n",
    "print(\"var_a is a    Floating Point   (float)? ---->\", type(var_a) == float)\n",
    "print(\"var_a is an      Integer        (int)?  ---->\", type(var_a) == int)"
   ]
  },
  {
   "cell_type": "code",
   "execution_count": 24,
   "metadata": {},
   "outputs": [
    {
     "data": {
      "text/plain": [
       "15.0"
      ]
     },
     "execution_count": 24,
     "metadata": {},
     "output_type": "execute_result"
    }
   ],
   "source": [
    "# Becuase type(var_a) == int is True, then var_a is an Integer, i.e. a whole number with no decimal points\n",
    "\n",
    "# We can convert \"var_a\" into a floating point number (giving it some decimals):\n",
    "float(var_a)"
   ]
  },
  {
   "cell_type": "code",
   "execution_count": 25,
   "metadata": {},
   "outputs": [
    {
     "data": {
      "text/plain": [
       "\"I'm a string! ABC, 153, Do Re Mi\""
      ]
     },
     "execution_count": 25,
     "metadata": {},
     "output_type": "execute_result"
    }
   ],
   "source": [
    "# We can also convert \"var_a\" into a string (so we can combine it with other strings without using f-strings)\n",
    "myString + \" ABC, \" + str(var_a) + \"3, Do Re Mi\""
   ]
  },
  {
   "cell_type": "code",
   "execution_count": 26,
   "metadata": {},
   "outputs": [
    {
     "name": "stdout",
     "output_type": "stream",
     "text": [
      "True\n"
     ]
    }
   ],
   "source": [
    "# We saw another data type retuned from above, True / False which is a type called \"boolean\" This data type is named after English mathemetitian George Boole\n",
    "# Boole gave birth to Boolean (True/False) Algebra and thus the 0s and 1s at the heart of computing\n",
    "# Many processes in a program can be broken down into boolean logic, e.g. \n",
    "print(var_b < 10)"
   ]
  },
  {
   "cell_type": "code",
   "execution_count": 27,
   "metadata": {},
   "outputs": [
    {
     "name": "stdout",
     "output_type": "stream",
     "text": [
      "var_b is less than 10\n"
     ]
    }
   ],
   "source": [
    "# We can use if / else statements to print statementes conditional on this boolean logic:\n",
    "if var_b < 10:\n",
    "    print(\"var_b is less than 10\")\n",
    "else:\n",
    "    print(\"var_b is greater than (or equal to) 10\")"
   ]
  },
  {
   "cell_type": "code",
   "execution_count": 30,
   "metadata": {},
   "outputs": [
    {
     "name": "stdout",
     "output_type": "stream",
     "text": [
      "var_b is greater than (or equal to) 10... subtracting 10 from varb_b\n",
      "\n",
      "Now var_b = 3\n"
     ]
    }
   ],
   "source": [
    "# We can expand this to modify the the value of var_b based on it's current value\n",
    "if var_b < 10:\n",
    "    print(\"var_b is less than 10... adding 10 to var_b\")\n",
    "    var_b = var_b + 10\n",
    "    print(\"\\nNow var_b = \", var_b)\n",
    "else:\n",
    "    print(\"var_b is greater than (or equal to) 10... subtracting 10 from varb_b\")\n",
    "    var_b = var_b - 10\n",
    "    print(\"\\nNow var_b =\", var_b)"
   ]
  },
  {
   "cell_type": "code",
   "execution_count": 29,
   "metadata": {},
   "outputs": [],
   "source": [
    "# Run the cell above a few times and follow the logic of the if/else statement\n"
   ]
  },
  {
   "cell_type": "code",
   "execution_count": 31,
   "metadata": {},
   "outputs": [
    {
     "name": "stdout",
     "output_type": "stream",
     "text": [
      "i =  0 , var_b =  13\n",
      "i =  1 , var_b =  3\n",
      "i =  2 , var_b =  13\n",
      "i =  3 , var_b =  3\n",
      "i =  4 , var_b =  13\n",
      "i =  5 , var_b =  3\n",
      "i =  6 , var_b =  13\n",
      "i =  7 , var_b =  3\n",
      "i =  8 , var_b =  13\n",
      "i =  9 , var_b =  3\n",
      "i =  10 , var_b =  13\n",
      "i =  11 , var_b =  3\n",
      "i =  12 , var_b =  13\n",
      "i =  13 , var_b =  3\n",
      "i =  14 , var_b =  13\n",
      "i =  15 , var_b =  3\n",
      "i =  16 , var_b =  13\n",
      "i =  17 , var_b =  3\n",
      "i =  18 , var_b =  13\n",
      "i =  19 , var_b =  3\n",
      "i =  20 , var_b =  13\n",
      "i =  21 , var_b =  3\n",
      "i =  22 , var_b =  13\n",
      "i =  23 , var_b =  3\n",
      "i =  24 , var_b =  13\n",
      "i =  25 , var_b =  3\n",
      "i =  26 , var_b =  13\n",
      "i =  27 , var_b =  3\n",
      "i =  28 , var_b =  13\n",
      "i =  29 , var_b =  3\n",
      "i =  30 , var_b =  13\n",
      "i =  31 , var_b =  3\n",
      "i =  32 , var_b =  13\n",
      "i =  33 , var_b =  3\n",
      "i =  34 , var_b =  13\n",
      "i =  35 , var_b =  3\n",
      "i =  36 , var_b =  13\n",
      "i =  37 , var_b =  3\n",
      "i =  38 , var_b =  13\n",
      "i =  39 , var_b =  3\n",
      "i =  40 , var_b =  13\n",
      "i =  41 , var_b =  3\n",
      "i =  42 , var_b =  13\n",
      "i =  43 , var_b =  3\n",
      "i =  44 , var_b =  13\n",
      "i =  45 , var_b =  3\n",
      "i =  46 , var_b =  13\n",
      "i =  47 , var_b =  3\n",
      "i =  48 , var_b =  13\n",
      "i =  49 , var_b =  3\n"
     ]
    }
   ],
   "source": [
    "# We can now run this if / else statement on the condition that (i.e. while) another statment is true:\n",
    "i = 0\n",
    "while i < 50:\n",
    "    if var_b < 10:\n",
    "        var_b = var_b + 10\n",
    "        print(\"i = \", i, \", var_b = \", var_b)\n",
    "    else:\n",
    "        var_b = var_b - 10\n",
    "        print(\"i = \", i, \", var_b = \", var_b)\n",
    "    i = i + 1"
   ]
  },
  {
   "cell_type": "code",
   "execution_count": 33,
   "metadata": {},
   "outputs": [],
   "source": [
    "# Then we can turn this into a function\n",
    "def my_func(i,var_b):\n",
    "    while i < 50:\n",
    "        if var_b < 10:\n",
    "            var_b = var_b + 10\n",
    "            print(\"i = \", i, \", var_b = \", var_b)\n",
    "        else:\n",
    "            var_b = var_b - 10\n",
    "            print(\"i = \", i, \", var_b = \", var_b)\n",
    "        i = i + 1"
   ]
  },
  {
   "cell_type": "code",
   "execution_count": 34,
   "metadata": {},
   "outputs": [
    {
     "name": "stdout",
     "output_type": "stream",
     "text": [
      "i =  30 , var_b =  13\n",
      "i =  31 , var_b =  3\n",
      "i =  32 , var_b =  13\n",
      "i =  33 , var_b =  3\n",
      "i =  34 , var_b =  13\n",
      "i =  35 , var_b =  3\n",
      "i =  36 , var_b =  13\n",
      "i =  37 , var_b =  3\n",
      "i =  38 , var_b =  13\n",
      "i =  39 , var_b =  3\n",
      "i =  40 , var_b =  13\n",
      "i =  41 , var_b =  3\n",
      "i =  42 , var_b =  13\n",
      "i =  43 , var_b =  3\n",
      "i =  44 , var_b =  13\n",
      "i =  45 , var_b =  3\n",
      "i =  46 , var_b =  13\n",
      "i =  47 , var_b =  3\n",
      "i =  48 , var_b =  13\n",
      "i =  49 , var_b =  3\n"
     ]
    }
   ],
   "source": [
    "# And run the function with a new value of i\n",
    "my_func(30,var_b)"
   ]
  },
  {
   "cell_type": "code",
   "execution_count": 35,
   "metadata": {},
   "outputs": [
    {
     "name": "stdout",
     "output_type": "stream",
     "text": [
      "i =  44 , var_b =  11\n",
      "i =  45 , var_b =  1\n",
      "i =  46 , var_b =  11\n",
      "i =  47 , var_b =  1\n",
      "i =  48 , var_b =  11\n",
      "i =  49 , var_b =  1\n"
     ]
    }
   ],
   "source": [
    "# or a new value of both i and var_b:\n",
    "my_func(44,1)"
   ]
  },
  {
   "cell_type": "code",
   "execution_count": 36,
   "metadata": {},
   "outputs": [],
   "source": [
    "# Another data type is lists:\n",
    "my_list = [\"list item 1\", \"list item 2\", \"list item 3\", \"list item 4\", \"list item 5\"]"
   ]
  },
  {
   "cell_type": "code",
   "execution_count": 37,
   "metadata": {},
   "outputs": [
    {
     "data": {
      "text/plain": [
       "'list item 1'"
      ]
     },
     "execution_count": 37,
     "metadata": {},
     "output_type": "execute_result"
    }
   ],
   "source": [
    "# Items within the list can be retrieved (i.e. subsetted) starting from 0\n",
    "my_list[0]"
   ]
  },
  {
   "cell_type": "code",
   "execution_count": 40,
   "metadata": {},
   "outputs": [
    {
     "data": {
      "text/plain": [
       "['list item 3', 'list item 4']"
      ]
     },
     "execution_count": 40,
     "metadata": {},
     "output_type": "execute_result"
    }
   ],
   "source": [
    "# Multiple items can be subset\n",
    "my_list[2:-1]"
   ]
  },
  {
   "cell_type": "code",
   "execution_count": 41,
   "metadata": {},
   "outputs": [],
   "source": [
    "# Similarly, values can be kept alongside keys within a dictionary\n",
    "my_dict = {\n",
    "    \"keyA\":\"dict value 1\",\n",
    "    \"keyB\":\"dict value 2\",\n",
    "    \"keyC\":\"dict value 3\",\n",
    "    \"keyD\":\"dict value 4\"}"
   ]
  },
  {
   "cell_type": "code",
   "execution_count": 42,
   "metadata": {},
   "outputs": [
    {
     "data": {
      "text/plain": [
       "'dict value 1'"
      ]
     },
     "execution_count": 42,
     "metadata": {},
     "output_type": "execute_result"
    }
   ],
   "source": [
    "# Keys can be used to the items within the dictionary \n",
    "my_dict[\"keyA\"]"
   ]
  },
  {
   "cell_type": "code",
   "execution_count": 44,
   "metadata": {},
   "outputs": [
    {
     "name": "stdout",
     "output_type": "stream",
     "text": [
      "list item 1\n",
      "list item 2\n",
      "list item 3\n",
      "list item 4\n",
      "list item 5\n"
     ]
    }
   ],
   "source": [
    "# for loops can be used to iterate through items in lists and keys in dictionaries\n",
    "for i in my_list:\n",
    "    print(i)"
   ]
  },
  {
   "cell_type": "code",
   "execution_count": 45,
   "metadata": {},
   "outputs": [
    {
     "name": "stdout",
     "output_type": "stream",
     "text": [
      "keyA\n",
      "dict value 1\n",
      "keyB\n",
      "dict value 2\n",
      "keyC\n",
      "dict value 3\n",
      "keyD\n",
      "dict value 4\n"
     ]
    }
   ],
   "source": [
    "for key in my_dict:\n",
    "    print(key)\n",
    "    print(my_dict[key])"
   ]
  },
  {
   "cell_type": "code",
   "execution_count": 46,
   "metadata": {},
   "outputs": [
    {
     "name": "stdout",
     "output_type": "stream",
     "text": [
      "dict value 1\n",
      "dict value 2\n",
      "dict value 3\n",
      "dict value 4\n"
     ]
    }
   ],
   "source": [
    "# or simnply, the keys and values can be called separately\n",
    "# this is more efficient than pulling the value from the dictionary each time it is called\n",
    "for key, value in my_dict.items():\n",
    "    print(value)"
   ]
  },
  {
   "cell_type": "code",
   "execution_count": 47,
   "metadata": {},
   "outputs": [
    {
     "data": {
      "text/plain": [
       "['modified item 1',\n",
       " 'modified item 2',\n",
       " 'modified item 3',\n",
       " 'modified item 4',\n",
       " 'modified item 5']"
      ]
     },
     "execution_count": 47,
     "metadata": {},
     "output_type": "execute_result"
    }
   ],
   "source": [
    "# items in lists can also be expressed in a single line to create a modified list:\n",
    "[\"modified \" + i[-6:] for i in my_list]"
   ]
  },
  {
   "cell_type": "code",
   "execution_count": null,
   "metadata": {},
   "outputs": [],
   "source": [
    "### TRY IT YOURSELF ACTIVITY ###\n",
    "# Create your own dictionary and for loop to print out the text from the first 3 lines of your faviourite song!\n",
    "my_song = {}"
   ]
  },
  {
   "cell_type": "code",
   "execution_count": null,
   "metadata": {
    "jupyter": {
     "source_hidden": true
    }
   },
   "outputs": [],
   "source": [
    "my_song = {\"lyrics1\":\"I'm just a poor boy, nobody love's me\",\n",
    "           \"lyrics2\":\"He's just a poor boy, from a poor family\",\n",
    "           \"lyrics3\":\"Spare him his life from this monstrosity!\"}\n",
    "for key, value in my_song.items():\n",
    "    print(value)"
   ]
  }
 ],
 "metadata": {
  "kernelspec": {
   "display_name": "Python 3",
   "language": "python",
   "name": "python3"
  },
  "language_info": {
   "codemirror_mode": {
    "name": "ipython",
    "version": 3
   },
   "file_extension": ".py",
   "mimetype": "text/x-python",
   "name": "python",
   "nbconvert_exporter": "python",
   "pygments_lexer": "ipython3",
   "version": "3.8.2"
  }
 },
 "nbformat": 4,
 "nbformat_minor": 4
}
