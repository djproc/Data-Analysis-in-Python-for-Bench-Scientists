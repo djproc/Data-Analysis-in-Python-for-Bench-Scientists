{
 "cells": [
  {
   "cell_type": "markdown",
   "metadata": {},
   "source": [
    "# STEP-BY-STEP: FIGURES\n",
    "\n",
    "In this notebook we will be running through the creation of a simple multi-panel figure using matplotlib. \n",
    "\n",
    "I will highlight complex changes to the code  using \" # <======= #\" and a short description. \n",
    "\n",
    "Click through each cell below by pressing [ SHIFT + ENTER ] and trying out the EXPLORE activities when they come up!\n"
   ]
  },
  {
   "cell_type": "code",
   "execution_count": null,
   "metadata": {},
   "outputs": [],
   "source": [
    "# Let's start by creating a list of integers from 0 to 20  \n",
    "\n",
    "list_A = [0, 2, 4, 6, 8, 10, 12, 14, 16, 18, 20]"
   ]
  },
  {
   "cell_type": "code",
   "execution_count": null,
   "metadata": {},
   "outputs": [],
   "source": [
    "# Let's print the items in the list using a for loop...\n",
    "for x in list_A:\n",
    "    print(x)"
   ]
  },
  {
   "cell_type": "code",
   "execution_count": null,
   "metadata": {},
   "outputs": [],
   "source": [
    "# Instead of explicitly setting these values, we can instead use the linspace function from numpy:\n",
    "# NOTE: As we are starting at zero, we need 11 steps to reach 20\n",
    "\n",
    "import numpy as np               # <======= # We only need to import once per notebook\n",
    "\n",
    "list_A = np.linspace(0,20,11)    # <======= # np.linspace(START,STOP,STEPS)"
   ]
  },
  {
   "cell_type": "code",
   "execution_count": null,
   "metadata": {},
   "outputs": [],
   "source": [
    "# EXPLORE : If you press [ SHIFT + TAB ] after clicking inside a function, the documentation describing that function will pop up!\n",
    "# EXPLORE : Try it above by clicking inside of \"linspace\" and pressing [ SHIFT + TAB ] (Note, this will only work after importing a package)"
   ]
  },
  {
   "cell_type": "code",
   "execution_count": null,
   "metadata": {},
   "outputs": [],
   "source": [
    "# let's check that list_A is still made up of the same integers using a for loop\n",
    "\n",
    "for x in list_A:\n",
    "    print(x)"
   ]
  },
  {
   "cell_type": "code",
   "execution_count": null,
   "metadata": {},
   "outputs": [],
   "source": [
    "# Uh oh! Linspace uses floating point numbers by default, if we want to use integers we can set \"dtype=int\" within the linspace function\n",
    "\n",
    "list_A = np.linspace(0,20,11, dtype=int)\n",
    "\n",
    "for n in list_A:\n",
    "    print(n)"
   ]
  },
  {
   "cell_type": "code",
   "execution_count": null,
   "metadata": {},
   "outputs": [],
   "source": [
    "# Much better! We can now make our first graph using the most basic plotting function for matplotlib: \"plt.plot()\"\n",
    "# NOTE: matplotlib can handle floats and ints, I'm just showing you how to specify this if you do need it!\n",
    "\n",
    "import matplotlib.pyplot as plt\n",
    "\n",
    "plt.plot(list_A)\n",
    "\n",
    "plt.show()"
   ]
  },
  {
   "cell_type": "code",
   "execution_count": null,
   "metadata": {},
   "outputs": [],
   "source": [
    "# Beautiful! Here, we can see that x-axis values of the line have been assumed to be the postition in the list and the list_A values are plotted on the y-axis\n",
    "# This is easier to see if we add the individual datapoints to the graph by adding marker=\"o\"\n",
    "\n",
    "plt.plot(list_A, marker=\"o\") # <======= # MODIFIED\n",
    "\n",
    "plt.show()"
   ]
  },
  {
   "cell_type": "code",
   "execution_count": null,
   "metadata": {},
   "outputs": [],
   "source": [
    "# EXPLORE : Above, try setting marker to \"x\", \"^\", or \"8\""
   ]
  },
  {
   "cell_type": "code",
   "execution_count": null,
   "metadata": {},
   "outputs": [],
   "source": [
    "# By setting the x- and y-axis limits to span the same range (0-20), we can start to see the true slope of the line we've drawn\n",
    "\n",
    "plt.plot(list_A, marker=\"o\")\n",
    "\n",
    "plt.xlim(0,20) # <======= # NEW\n",
    "plt.ylim(0,20) # <======= # NEW\n",
    "\n",
    "plt.show()"
   ]
  },
  {
   "cell_type": "code",
   "execution_count": null,
   "metadata": {},
   "outputs": [],
   "source": [
    "# The default figure size for size for matplotlib is 6x4 inches,\n",
    "# we can further reveal the true slope of the line by first creating a figure object called \"fig\" and setting \"figsize\" to 4x4 inches. \n",
    "\n",
    "fig = plt.figure(figsize=(4, 4)) # <======= # NEW\n",
    "\n",
    "plt.plot(list_A, marker=\"o\")\n",
    "\n",
    "plt.xlim(0,20)\n",
    "plt.ylim(0,20)\n",
    "\n",
    "plt.show()"
   ]
  },
  {
   "cell_type": "code",
   "execution_count": null,
   "metadata": {},
   "outputs": [],
   "source": [
    "# To create multiple figure panels, we can add individual axes to the figure\n",
    "# First, we create an \"ax\" object after the \"fig\" object created in the first line.\n",
    "\n",
    "# NOTE: We use \"plt.subplots\" now instead of \"plt.figure\" and can set the number of columns and rows using \"ncols=\" and \"nrows=\"\n",
    "# NOTE: Now we have to specify which axis we want to plot to ( e.g. \"ax[0].plot()\" ) instead of using \"plt.plot()\"\n",
    "# NOTE: To set the x- or y-limits on an individual ax, you need to use \"set_xlim\" instead of \"xlim\", a similar case is true for other properties \n",
    "\n",
    "fig, ax = plt.subplots(ncols=2,figsize=(4, 4)) # <======= # MODIFIED\n",
    "\n",
    "ax[0].plot(list_A, marker=\"o\")                 # <======= # MODIFIED\n",
    "\n",
    "ax[0].set_xlim(0,20)                           # <======= # MODIFIED\n",
    "ax[0].set_ylim(0,20)                           # <======= # MODIFIED\n",
    "\n",
    "plt.show()"
   ]
  },
  {
   "cell_type": "code",
   "execution_count": null,
   "metadata": {},
   "outputs": [],
   "source": [
    "# We can switch this location this graph is plotted by changing to \"ax[1].plot()\"\n",
    "\n",
    "fig, ax = plt.subplots(ncols=2,figsize=(4, 4)) \n",
    "\n",
    "ax[1].plot(list_A, marker=\"o\")                 # <======= # MODIFIED\n",
    "\n",
    "ax[1].set_xlim(0,20)                           # <======= # MODIFIED\n",
    "ax[1].set_ylim(0,20)                           # <======= # MODIFIED\n",
    "\n",
    "plt.show()"
   ]
  },
  {
   "cell_type": "code",
   "execution_count": null,
   "metadata": {},
   "outputs": [],
   "source": [
    "# EXPLORE : What happens if you still use \"plt.plot()\" instead of \"ax[0].plot()\"?"
   ]
  },
  {
   "cell_type": "code",
   "execution_count": null,
   "metadata": {},
   "outputs": [],
   "source": [
    "# Uh oh... this figure is a bit squished!\n",
    "# Let's increase its size by doubling the width value (1st value of the tupple) of \"figsize=\" \n",
    "\n",
    "fig, ax = plt.subplots(ncols=2,figsize=(8, 4)) # <======= # MODIFIED\n",
    "\n",
    "ax[1].plot(list_A, marker=\"o\")\n",
    "\n",
    "ax[1].set_xlim(0,20)\n",
    "ax[1].set_ylim(0,20)\n",
    "\n",
    "plt.show()"
   ]
  },
  {
   "cell_type": "code",
   "execution_count": null,
   "metadata": {},
   "outputs": [],
   "source": [
    "# But how do you know which ax is which? \n",
    "# To find out, we can add an annotation calling each...\n",
    "\n",
    "fig, ax = plt.subplots(ncols=2,figsize=(8, 4))\n",
    "\n",
    "ax[1].plot(list_A, marker=\"o\")\n",
    "\n",
    "ax[0].annotate(\"ax[0]\",xy=(0.275,0.5),xycoords='axes fraction', fontsize=30,color=\"red\") # <======= # NEW\n",
    "ax[1].annotate(\"ax[1]\",xy=(0.275,0.5),xycoords='axes fraction', fontsize=30,color=\"red\") # <======= # NEW\n",
    " \n",
    "ax[1].set_xlim(0,20)\n",
    "ax[1].set_ylim(0,20)\n",
    "\n",
    "plt.show()"
   ]
  },
  {
   "cell_type": "code",
   "execution_count": null,
   "metadata": {},
   "outputs": [],
   "source": [
    "# These plotting functions become a lot more useful when you link them to other functions! \n",
    "# For example, instead of refering to list_A directly, we can instead call the linspace function from within the ax[1].plot() function\n",
    "\n",
    "fig, ax = plt.subplots(ncols=2,figsize=(8, 4))\n",
    "\n",
    "ax[1].plot(np.linspace(0,20,11), marker=\"o\") # <======= # MODIFIED\n",
    "\n",
    "ax[1].set_xlim(0,20)\n",
    "ax[1].set_ylim(0,20)\n",
    "plt.show()"
   ]
  },
  {
   "cell_type": "code",
   "execution_count": null,
   "metadata": {},
   "outputs": [],
   "source": [
    "# It's the same as before... so now we have a way of rapdily adding more data to our graph!\n",
    "# Below, let's add different linspace functions to our graph...\n",
    "\n",
    "# NOTE: the color of the different datasets is specified automatically\n",
    "\n",
    "fig, ax = plt.subplots(ncols=2,figsize=(8, 4))\n",
    "\n",
    "ax[1].plot(np.linspace(0,5,11), marker=\"o\")\n",
    "ax[1].plot(np.linspace(0,10,11), marker=\"o\") # <======= # NEW\n",
    "ax[1].plot(np.linspace(0,15,11), marker=\"o\") # <======= # NEW\n",
    "ax[1].plot(np.linspace(0,20,11), marker=\"o\") # <======= # NEW\n",
    "\n",
    "ax[1].set_xlim(0,20)\n",
    "ax[1].set_ylim(0,20)\n",
    "\n",
    "plt.show()"
   ]
  },
  {
   "cell_type": "code",
   "execution_count": null,
   "metadata": {},
   "outputs": [],
   "source": [
    "# As we are simply changing the second argument in linspace (the maximum value) to draw each of these lines, \n",
    "# we can instead use a for loop to draw them!\n",
    "\n",
    "fig, ax = plt.subplots(ncols=2,figsize=(8, 4))\n",
    "\n",
    "for x in [5,10,15,20]:                            # <======= # NEW\n",
    "    ax[1].plot(np.linspace(0,x,11), marker=\"o\")   # <======= # MODIFIED \n",
    "\n",
    "ax[1].set_xlim(0,20)\n",
    "ax[1].set_ylim(0,20)\n",
    "\n",
    "plt.show()"
   ]
  },
  {
   "cell_type": "code",
   "execution_count": null,
   "metadata": {},
   "outputs": [],
   "source": [
    "# Of course, this for loop could itself use a linspace function instead of explicit list of values \"[5,10,15,20]\"\n",
    "\n",
    "fig, ax = plt.subplots(ncols=2,figsize=(8, 4))\n",
    "\n",
    "for x in np.linspace(5,20,4,dtype=int):          # <======= # MODIFIED \n",
    "    ax[1].plot(np.linspace(0,x,11), marker=\"o\")\n",
    "\n",
    "ax[1].set_xlim(0,20)\n",
    "ax[1].set_ylim(0,20)\n",
    "\n",
    "plt.show()"
   ]
  },
  {
   "cell_type": "code",
   "execution_count": null,
   "metadata": {},
   "outputs": [],
   "source": [
    "# Now we're getting complicated! \n",
    "# We can add more intervales to that range by setting 16 steps intead of 4\n",
    "\n",
    "fig, ax = plt.subplots(ncols=2,figsize=(8, 4))\n",
    "\n",
    "for x in np.linspace(5,20,16,dtype=int):         # <======= # MODIFIED STEP number from 4 to 16\n",
    "    ax[1].plot(np.linspace(0,x,11), marker=\"o\")\n",
    "\n",
    "ax[1].set_xlim(0,20)\n",
    "ax[1].set_ylim(0,20)\n",
    "plt.show()"
   ]
  },
  {
   "cell_type": "code",
   "execution_count": null,
   "metadata": {},
   "outputs": [],
   "source": [
    "# We can also use this for loop to set data on ax[0]\n",
    "\n",
    "# NOTE: For simplicity, let's forget about setting x- and y-axis limits...\n",
    "\n",
    "fig, ax = plt.subplots(ncols=2,figsize=(8, 4))\n",
    "\n",
    "for x in np.linspace(5,20,16,dtype=int):\n",
    "    ax[0].plot(np.linspace(x,0,11), marker=\"o\")    # <======= # NEW \n",
    "    ax[1].plot(np.linspace(0,x,11), marker=\"o\")\n",
    "                                                   # <======= # REMOVED set_xlim() and set_ylim() \n",
    "plt.show()"
   ]
  },
  {
   "cell_type": "code",
   "execution_count": null,
   "metadata": {},
   "outputs": [],
   "source": [
    "# We can add another row to this figure by adding \"nrows=\" to plt.subplots() during the createon of the fig object \n",
    "\n",
    "# NOTE: We must explicity refer to both the row and column number for each ax object, e.g. ax[0,0] is the top right ax\n",
    "# NOTE: i've changed the for loop to start at 0 and removed the line markers\n",
    "\n",
    "fig, ax = plt.subplots(ncols=2,nrows=2,figsize=(8, 8))     # <======= # MODIFIED (add nrows=2)\n",
    "\n",
    "for x in np.linspace(0,20,21,dtype=int):                   # <======= # MODIFIED\n",
    "    ax[0,0].plot(np.linspace(x,0,11))                      # <======= # MODIFIED (set as ax[0,0] instead of ax[0])\n",
    "    ax[0,1].plot(np.linspace(0,x,11))                      # <======= # MODIFIED (set as ax[0,1] instead of ax[1])\n",
    "    ax[1,0].plot(np.linspace(x,20,11))                     # <======= # NEW (set to second row)\n",
    "    ax[1,1].plot(np.linspace(20,x,11))                     # <======= # NEW (set to second row)\n",
    "\n",
    "plt.show()"
   ]
  },
  {
   "cell_type": "code",
   "execution_count": null,
   "metadata": {},
   "outputs": [],
   "source": [
    "# How can we tell which ax is which? This could get confusing In large figures! Let's add some annotations! \n",
    "\n",
    "fig, ax = plt.subplots(ncols=2,nrows=2,figsize=(8, 8))\n",
    "\n",
    "for x in np.linspace(0,20,21,dtype=int):\n",
    "    ax[0,0].plot(np.linspace(x,0,11))\n",
    "    ax[0,1].plot(np.linspace(0,x,11))\n",
    "    ax[1,0].plot(np.linspace(x,20,11))\n",
    "    ax[1,1].plot(np.linspace(20,x,11))\n",
    "\n",
    "ax[0,0].annotate(\"ax[0,0]\",xy=(0.275,0.5),xycoords='axes fraction', fontsize=30,color=\"red\")             # <======= # NEW\n",
    "ax[0,1].annotate(\"ax[0,1]\",xy=(0.275,0.5),xycoords='axes fraction', fontsize=30,color=\"red\")             # <======= # NEW\n",
    "ax[1,0].annotate(\"ax[1,0]\",xy=(0.275,0.5),xycoords='axes fraction', fontsize=30,color=\"red\")             # <======= # NEW\n",
    "ax[1,1].annotate(\"ax[1,1]\",xy=(0.275,0.5),xycoords='axes fraction', fontsize=30,color=\"red\")             # <======= # NEW\n",
    "\n",
    "plt.show()\n"
   ]
  },
  {
   "cell_type": "code",
   "execution_count": null,
   "metadata": {},
   "outputs": [],
   "source": [
    "# These annotations could also be set using simple range functions and f-strings inside the annotation text\n",
    "\n",
    "fig, ax = plt.subplots(ncols=2,nrows=2,figsize=(8, 8))\n",
    "\n",
    "for x in np.linspace(0,20,21,dtype=int):\n",
    "    ax[0,0].plot(np.linspace(x,0,11))\n",
    "    ax[0,1].plot(np.linspace(0,x,11))\n",
    "    ax[1,0].plot(np.linspace(x,20,11))\n",
    "    ax[1,1].plot(np.linspace(20,x,11))\n",
    "\n",
    "for i in range(2):                                                                                         # <======= # NEW\n",
    "    for j in range(2):                                                                                     # <======= # NEW\n",
    "        ax[i,j].annotate(f\"ax[{i},{j}]\\n row {i}\\n  col {j}\",xy=(0.275,0.25),xycoords='axes fraction', fontsize=30,color=\"red\")  # <======= # MODIFIED (i and j are used to refer to rows and column number)\n",
    "\n",
    "plt.show()\n"
   ]
  },
  {
   "cell_type": "code",
   "execution_count": null,
   "metadata": {},
   "outputs": [],
   "source": [
    "# Because these datasets span the exact same range of values, we can forcr our data to \"share\" the x- and y-axis limits, by adding these \"keyword arguments\" to plt.subplots()\n",
    "# When you do this, the \"tick labels\" are only displayed for the lowest x-axis or most left y-axis by default\n",
    "\n",
    "fig, ax = plt.subplots(ncols=2,nrows=2,figsize=(8, 8),sharex=True,sharey=True) # <======= # MODIFIED\n",
    "\n",
    "for x in np.linspace(0,20,21,dtype=int):\n",
    "    ax[0,0].plot(np.linspace(x,0,11))\n",
    "    ax[0,1].plot(np.linspace(0,x,11))\n",
    "    ax[1,0].plot(np.linspace(x,20,11))\n",
    "    ax[1,1].plot(np.linspace(20,x,11))\n",
    "\n",
    "plt.show()"
   ]
  },
  {
   "cell_type": "code",
   "execution_count": null,
   "metadata": {},
   "outputs": [],
   "source": [
    "# We can reduce the spacing between these plots using \"plt.subplots_adjust()\"\n",
    "\n",
    "fig, ax = plt.subplots(ncols=2,nrows=2,figsize=(8, 8),sharex=True,sharey=True)\n",
    "\n",
    "for x in np.linspace(0,20,21,dtype=int):\n",
    "    ax[0,0].plot(np.linspace(x,0,11))\n",
    "    ax[0,1].plot(np.linspace(0,x,11))\n",
    "    ax[1,0].plot(np.linspace(x,20,11))\n",
    "    ax[1,1].plot(np.linspace(20,x,11))\n",
    "\n",
    "plt.subplots_adjust(hspace = 0.05,wspace = 0.05)        # <======= # NEW\n",
    "\n",
    "plt.show()"
   ]
  },
  {
   "cell_type": "code",
   "execution_count": null,
   "metadata": {},
   "outputs": [],
   "source": [
    "# EXPLORE : What happens when you set hspace and wspace in subplots_adjust to zero?"
   ]
  },
  {
   "cell_type": "code",
   "execution_count": null,
   "metadata": {},
   "outputs": [],
   "source": [
    "# We can change how the axis ticks are displayed on each ax using \"tick_params\"\n",
    "\n",
    "fig, ax = plt.subplots(ncols=2,nrows=2,figsize=(8, 8),sharex=True,sharey=True)\n",
    "\n",
    "for x in np.linspace(0,20,21,dtype=int):\n",
    "    ax[0,0].plot(np.linspace(x,0,11))\n",
    "    ax[0,1].plot(np.linspace(0,x,11))\n",
    "    ax[1,0].plot(np.linspace(x,20,11))\n",
    "    ax[1,1].plot(np.linspace(20,x,11))\n",
    "\n",
    "plt.subplots_adjust(hspace = 0.03,wspace = 0.03)\n",
    "\n",
    "ax[0,0].tick_params(which='both', # Options for both major and minor ticks   # <======= # NEW\n",
    "                top=False, # turn off top ticks                              # <======= # NEW\n",
    "                left=True, # turn on left ticks                              # <======= # NEW\n",
    "                right=False,  # turn off right ticks                         # <======= # NEW\n",
    "                bottom=False) # turn off bottom ticks                        # <======= # NEW   \n",
    "\n",
    "ax[0,1].tick_params(which='both', # Options for both major and minor ticks   # <======= # NEW\n",
    "                top=False, # turn off top ticks                              # <======= # NEW\n",
    "                left=False, # turn off left ticks                            # <======= # NEW\n",
    "                right=False,  # turn off right ticks                         # <======= # NEW\n",
    "                bottom=False) # turn off bottom ticks                        # <======= # NEW\n",
    "\n",
    "ax[1,0].tick_params(which='both', # Options for both major and minor ticks   # <======= # NEW\n",
    "                top=False, # turn off top ticks                              # <======= # NEW\n",
    "                left=True, # turn on left ticks                              # <======= # NEW\n",
    "                right=False,  # turn off right ticks                         # <======= # NEW\n",
    "                bottom=True) # turn on bottom ticks                          # <======= # NEW\n",
    "\n",
    "ax[1,1].tick_params(which='both', # Options for both major and minor ticks\n",
    "                top=False, # turn off top ticks                              # <======= # NEW\n",
    "                left=False, # turn off left ticks                            # <======= # NEW\n",
    "                right=False,  # turn off right ticks                         # <======= # NEW\n",
    "                bottom=True) # turn on bottom ticks                          # <======= # NEW\n",
    "\n",
    "plt.show()"
   ]
  },
  {
   "cell_type": "code",
   "execution_count": null,
   "metadata": {},
   "outputs": [],
   "source": [
    "# This can be simplified by using a for loop that iterates through a dictionary of axis settings\n",
    "\n",
    "fig, ax = plt.subplots(ncols=2,nrows=2,figsize=(8, 8),sharex=True,sharey=True)\n",
    "\n",
    "for x in np.linspace(0,20,21,dtype=int):\n",
    "    ax[0,0].plot(np.linspace(x,0,11))\n",
    "    ax[0,1].plot(np.linspace(0,x,11))\n",
    "    ax[1,0].plot(np.linspace(x,20,11))\n",
    "    ax[1,1].plot(np.linspace(20,x,11))\n",
    "\n",
    "plt.subplots_adjust(hspace = 0.03,wspace = 0.03)\n",
    "\n",
    "#         {\"ax[i,j]\":(i,j,top,left,right,bottom)      # <======= # NEW (i and j are used to refer to rows and column number)\n",
    "ax_dict = {\"ax[0,0]\":(0,0,False,True,False,False),    # <======= # NEW\n",
    "           \"ax[0,1]\":(0,1,False,False,False,False),   # <======= # NEW\n",
    "           \"ax[1,0]\":(1,0,False,True,False,True),     # <======= # NEW\n",
    "           \"ax[1,1]\":(1,1,False,False,False,True)}    # <======= # NEW\n",
    "\n",
    "for key, item in ax_dict.items():                                                                               # <======= # NEW\n",
    "    ax[item[0],item[1]].tick_params(which='both', top=item[2], left=item[3], right=item[4], bottom=item[5])     # <======= # MODIFIED & CONDENSED \n",
    "\n",
    "plt.show()"
   ]
  },
  {
   "cell_type": "code",
   "execution_count": null,
   "metadata": {},
   "outputs": [],
   "source": [
    "# let's add another graph to this figure that is generated by a function! I've chosen to use the normal distribution, generated by the scipy package\n",
    "\n",
    "import scipy.stats as stats          # <======= # NEW (only need to import once per notebook)\n",
    "\n",
    "h = np.linspace(0,10,100)            # <======= # NEW (create the x-axis data points for the normal distribution)\n",
    "fit = stats.norm.pdf(h,5,1)*10       # <======= # NEW (create the y-axis data points for the normal distribution)\n",
    "\n",
    "fig, ax = plt.subplots(ncols=3,nrows=2,figsize=(12, 8),sharex=True,sharey=True)\n",
    "\n",
    "for x in np.linspace(0,20,21,dtype=int):\n",
    "    ax[0,0].plot(np.linspace(x,0,11))\n",
    "    ax[0,1].plot(h,fit/4*x)                        # <======= # NEW (normal distribution)\n",
    "    ax[0,2].plot(np.linspace(0,x,11))              # <======= # MODIFIED (increased column number)\n",
    "    \n",
    "    ax[1,0].plot(np.linspace(x,20,11))\n",
    "    ax[1,1].plot(h,20-fit/4*x)                     # <======= # NEW (normal distribution)\n",
    "    ax[1,2].plot(np.linspace(20,x,11))             # <======= # MODIFIED (increased column number)\n",
    "\n",
    "plt.subplots_adjust(hspace = 0.03,wspace = 0.03)\n",
    "\n",
    "#         {\"ax[i,j]\":(i,j,top,left,right,bottom)\n",
    "ax_dict = {\"ax[0,0]\":(0,0,False,True,False,False),\n",
    "           \"ax[0,1]\":(0,1,False,False,False,False), # <======= # NEW       \n",
    "           \"ax[0,2]\":(0,2,False,False,False,False), # <======= # MODIFIED (increased column number)\n",
    "           \"ax[1,0]\":(1,0,False,True,False,True),\n",
    "           \"ax[1,1]\":(1,1,False,False,False,True),  # <======= # NEW         \n",
    "           \"ax[1,2]\":(1,2,False,False,False,True)}  # <======= # MODIFIED (increased column number)\n",
    "\n",
    "for key, item in ax_dict.items():\n",
    "    ax[item[0],item[1]].tick_params(which='both', top=item[2], left=item[3], right=item[4], bottom=item[5])\n",
    "\n",
    "plt.show()"
   ]
  },
  {
   "cell_type": "code",
   "execution_count": null,
   "metadata": {},
   "outputs": [],
   "source": [
    "# EXPLORE: how would you adjust the x and y axis limits in the above example?"
   ]
  },
  {
   "cell_type": "code",
   "execution_count": null,
   "metadata": {},
   "outputs": [],
   "source": [
    "# Next, we can add axis labels usign \"ax[i,j].set_ylabel(\"\")\"\n",
    "\n",
    "h = np.linspace(0,10,100)\n",
    "fit = stats.norm.pdf(h,5,1)*10  \n",
    "\n",
    "fig, ax = plt.subplots(ncols=3,nrows=2,figsize=(12, 8),sharex=True,sharey=True)\n",
    "\n",
    "for x in np.linspace(0,20,21,dtype=int):\n",
    "    ax[0,0].plot(np.linspace(x,0,11))\n",
    "    ax[0,1].plot(h,fit/4*x)\n",
    "    ax[0,2].plot(np.linspace(0,x,11))\n",
    "    \n",
    "    ax[1,0].plot(np.linspace(x,20,11))\n",
    "    ax[1,1].plot(h,20-fit/4*x)\n",
    "    ax[1,2].plot(np.linspace(20,x,11))\n",
    "\n",
    "plt.subplots_adjust(hspace = 0.03,wspace = 0.03)\n",
    "\n",
    "#         {\"ax[i,j]\":(i,j,top,left,right,bottom)\n",
    "ax_dict = {\"ax[0,0]\":(0,0,False,True,False,False),\n",
    "           \"ax[0,1]\":(0,1,False,False,False,False),         \n",
    "           \"ax[0,2]\":(0,2,False,False,False,False), \n",
    "           \"ax[1,0]\":(1,0,False,True,False,True),\n",
    "           \"ax[1,1]\":(1,1,False,False,False,True),           \n",
    "           \"ax[1,2]\":(1,2,False,False,False,True)}\n",
    "\n",
    "for key, item in ax_dict.items():\n",
    "    ax[item[0],item[1]].tick_params(which='both', top=item[2], left=item[3], right=item[4], bottom=item[5])\n",
    "\n",
    "for i in [0,1]:\n",
    "    ax[i,0].set_ylabel(\"y-label text (units)\")   # <======= # NEW    \n",
    "\n",
    "for j in [0,1,2]:\n",
    "    ax[1,j].set_xlabel(\"x-label text (units)\")   # <======= # NEW    \n",
    "\n",
    "plt.show()"
   ]
  },
  {
   "cell_type": "code",
   "execution_count": null,
   "metadata": {},
   "outputs": [],
   "source": [
    "# Of course we could just exapnd the ax_dict to include these values, which would be more when we aren't sharing the x- and y-axis...\n",
    "\n",
    "h = np.linspace(0,10,100)\n",
    "fit = stats.norm.pdf(h,5,1)*10  \n",
    "\n",
    "fig, ax = plt.subplots(ncols=3,nrows=2,figsize=(12, 8),sharex=True,sharey=True)\n",
    "\n",
    "for x in np.linspace(0,20,21,dtype=int):\n",
    "    ax[0,0].plot(np.linspace(x,0,11))\n",
    "    ax[0,1].plot(h,fit/4*x)\n",
    "    ax[0,2].plot(np.linspace(0,x,11))\n",
    "    \n",
    "    ax[1,0].plot(np.linspace(x,20,11))\n",
    "    ax[1,1].plot(h,20-fit/4*x)\n",
    "    ax[1,2].plot(np.linspace(20,x,11))\n",
    "\n",
    "plt.subplots_adjust(hspace = 0.03,wspace = 0.03)\n",
    "\n",
    "#         {\"ax[i,j]\":(i,j,top,left,right,bottom,xlabel,ylabel)\n",
    "ax_dict = {\"ax[0,0]\":(0,0,False,True,False,False,None,\"y-label text (units)\"),                   # <======= # MODIFIED \n",
    "           \"ax[0,1]\":(0,1,False,False,False,False,None,None),         \n",
    "           \"ax[0,2]\":(0,2,False,False,False,False,None,None), \n",
    "           \"ax[1,0]\":(1,0,False,True,False,True,\"x-label text (units)\",\"y-label text (units)\"),  # <======= # MODIFIED \n",
    "           \"ax[1,1]\":(1,1,False,False,False,True,\"x-label text (units)\",None),                   # <======= # MODIFIED \n",
    "           \"ax[1,2]\":(1,2,False,False,False,True,\"x-label text (units)\",None)}                   # <======= # MODIFIED \n",
    "\n",
    "for key, item in ax_dict.items():\n",
    "    ax[item[0],item[1]].tick_params(which='both', top=item[2], left=item[3], right=item[4], bottom=item[5])\n",
    "    ax[item[0],item[1]].set_xlabel(item[6])\n",
    "    ax[item[0],item[1]].set_ylabel(item[7])\n",
    "\n",
    "plt.show()"
   ]
  },
  {
   "cell_type": "code",
   "execution_count": null,
   "metadata": {},
   "outputs": [],
   "source": [
    "# We can also add roman numerals panel labels to the figure using annotate\n",
    "\n",
    "h = np.linspace(0,10,100)\n",
    "fit = stats.norm.pdf(h,5,1)*10 \n",
    "\n",
    "fig, ax = plt.subplots(ncols=3,nrows=2,figsize=(12, 8),sharex=True,sharey=True)\n",
    "\n",
    "for x in np.linspace(0,20,21,dtype=int):\n",
    "    ax[0,0].plot(np.linspace(x,0,11))\n",
    "    ax[0,1].plot(h,fit/4*x)\n",
    "    ax[0,2].plot(np.linspace(0,x,11))\n",
    "    \n",
    "    ax[1,0].plot(np.linspace(x,20,11))\n",
    "    ax[1,1].plot(h,20-fit/4*x)\n",
    "    ax[1,2].plot(np.linspace(20,x,11))\n",
    "\n",
    "plt.subplots_adjust(hspace = 0.03,wspace = 0.03)\n",
    "\n",
    "#         {\"ax[i,j]\":(i,j,top,left,right,bottom,xlabel,ylabel,panel label,panel loc)\n",
    "ax_dict = {\"ax[0,0]\":(0,0,False,True,False,False,None,\"y-label text (units)\",\"(i)\",(0.9,0.925)),                         # <======= # MODIFIED\n",
    "           \"ax[0,1]\":(0,1,False,False,False,False,None,None,\"(ii)\",(0.9,0.925)),                                         # <======= # MODIFIED   \n",
    "           \"ax[0,2]\":(0,2,False,False,False,False,None,None,\"(iii)\",(0.025,0.925)),                                      # <======= # MODIFIED\n",
    "           \"ax[1,0]\":(1,0,False,True,False,True,\"x-label text (units)\",\"y-label text (units)\",\"(iv)\",(0.875,0.05)),      # <======= # MODIFIED\n",
    "           \"ax[1,1]\":(1,1,False,False,False,True,\"x-label text (units)\",None,\"(v)\",(0.9,0.05)),                          # <======= # MODIFIED\n",
    "           \"ax[1,2]\":(1,2,False,False,False,True,\"x-label text (units)\",None,\"(vi)\",(0.025,0.05))}                       # <======= # MODIFIED\n",
    "\n",
    "for key, item in ax_dict.items():\n",
    "    ax[item[0],item[1]].tick_params(which='both', top=item[2], left=item[3], right=item[4], bottom=item[5])\n",
    "    ax[item[0],item[1]].set_xlabel(item[6])\n",
    "    ax[item[0],item[1]].set_ylabel(item[7])\n",
    "    ax[item[0],item[1]].annotate(item[8], xy=item[9],xycoords='axes fraction', fontsize=12)                              # <======= # MODIFIED\n",
    "\n",
    "plt.show()"
   ]
  },
  {
   "cell_type": "code",
   "execution_count": null,
   "metadata": {},
   "outputs": [],
   "source": [
    "# We can add a legend using \"fig.legend()\"\n",
    "\n",
    "h = np.linspace(0,10,100)\n",
    "fit = stats.norm.pdf(h,5,1)*10\n",
    "\n",
    "fig, ax = plt.subplots(ncols=3,nrows=2,figsize=(12, 8),sharex=True,sharey=True)\n",
    "\n",
    "for x in np.linspace(0,20,21,dtype=int):\n",
    "    ax[0,0].plot(np.linspace(x,0,11),label=x)\n",
    "    ax[0,1].plot(h,fit/4*x)\n",
    "    ax[0,2].plot(np.linspace(0,x,11))\n",
    "    \n",
    "    ax[1,0].plot(np.linspace(x,20,11))\n",
    "    ax[1,1].plot(h,20-fit/4*x)\n",
    "    ax[1,2].plot(np.linspace(20,x,11))\n",
    "\n",
    "plt.subplots_adjust(hspace = 0.03,wspace = 0.03)\n",
    "\n",
    "#         {\"ax[i,j]\":(i,j,top,left,right,bottom,xlabel,ylabel,panel label,panel loc)\n",
    "ax_dict = {\"ax[0,0]\":(0,0,False,True,False,False,None,\"y-label text (units)\",\"(i)\",(0.9,0.925)),\n",
    "           \"ax[0,1]\":(0,1,False,False,False,False,None,None,\"(ii)\",(0.9,0.925)),         \n",
    "           \"ax[0,2]\":(0,2,False,False,False,False,None,None,\"(iii)\",(0.025,0.925)), \n",
    "           \"ax[1,0]\":(1,0,False,True,False,True,\"x-label text (units)\",\"y-label text (units)\",\"(iv)\",(0.875,0.05)),\n",
    "           \"ax[1,1]\":(1,1,False,False,False,True,\"x-label text (units)\",None,\"(v)\",(0.9,0.05)),      \n",
    "           \"ax[1,2]\":(1,2,False,False,False,True,\"x-label text (units)\",None,\"(vi)\",(0.025,0.05))} \n",
    "\n",
    "for key, item in ax_dict.items():\n",
    "    ax[item[0],item[1]].tick_params(which='both', top=item[2], left=item[3], right=item[4], bottom=item[5])\n",
    "    ax[item[0],item[1]].set_xlabel(item[6])\n",
    "    ax[item[0],item[1]].set_ylabel(item[7])\n",
    "    ax[item[0],item[1]].annotate(item[8], xy=item[9],xycoords='axes fraction', fontsize=12)\n",
    "\n",
    "fig.legend(loc='center right', frameon=True,title=\"x value:\")\n",
    "plt.show()"
   ]
  },
  {
   "cell_type": "code",
   "execution_count": null,
   "metadata": {},
   "outputs": [],
   "source": [
    "# We can also turn this whole figure into a function by indenting everything and using \"def\" to define a function\n",
    "\n",
    "# NOTE: this is particularly useful for reproducibility as you can just add new data and always process and display it the exact same way!\n",
    "# NOTE: when you run this cell there will be no output, you are simply creating the function to be called elsewhere\n",
    "# NOTE: 20 was a commmon value used throught this function, it has been replaced with the variable \"a\" so we can modify how many lines are drawn\n",
    "# NOTE: calling plt.tight_layout() will make sure everything fits nicely\n",
    "\n",
    "def myFigure(a):                                      # <======= # NEW\n",
    "    h = np.linspace(0,10,a*5)                         # <======= # MODIFIED\n",
    "    fit = stats.norm.pdf(h,5,1)*10\n",
    "\n",
    "    fig, ax = plt.subplots(ncols=3,nrows=2,figsize=(12, 8),sharex=True,sharey=True)\n",
    "\n",
    "    for x in np.linspace(0,a,a+1,dtype=int):          # <======= # MODIFIED\n",
    "        ax[0,0].plot(np.linspace(x,0,11),label=x)\n",
    "        ax[0,1].plot(h,fit/4*x)\n",
    "        ax[0,2].plot(np.linspace(0,x,11))\n",
    "\n",
    "        ax[1,0].plot(np.linspace(x,a,11))             # <======= # MODIFIED\n",
    "        ax[1,1].plot(h,a-fit/4*x)                     # <======= # MODIFIED\n",
    "        ax[1,2].plot(np.linspace(a,x,11))             # <======= # MODIFIED\n",
    "\n",
    "    plt.subplots_adjust(hspace = 0.03,wspace = 0.03)\n",
    "\n",
    "    #         {\"ax[i,j]\":(i,j,top,left,right,bottom,xlabel,ylabel,panel label,panel loc)\n",
    "    ax_dict = {\"ax[0,0]\":(0,0,False,True,False,False,None,\"y-label text (units)\",\"(i)\",(0.9,0.925)),\n",
    "               \"ax[0,1]\":(0,1,False,False,False,False,None,None,\"(ii)\",(0.9,0.925)),         \n",
    "               \"ax[0,2]\":(0,2,False,False,False,False,None,None,\"(iii)\",(0.025,0.925)), \n",
    "               \"ax[1,0]\":(1,0,False,True,False,True,\"x-label text (units)\",\"y-label text (units)\",\"(iv)\",(0.875,0.05)),\n",
    "               \"ax[1,1]\":(1,1,False,False,False,True,\"x-label text (units)\",None,\"(v)\",(0.9,0.05)),      \n",
    "               \"ax[1,2]\":(1,2,False,False,False,True,\"x-label text (units)\",None,\"(vi)\",(0.025,0.05))} \n",
    "\n",
    "    for key, item in ax_dict.items():\n",
    "        ax[item[0],item[1]].tick_params(which='both', top=item[2], left=item[3], right=item[4], bottom=item[5])\n",
    "        ax[item[0],item[1]].set_xlabel(item[6])\n",
    "        ax[item[0],item[1]].set_ylabel(item[7])\n",
    "        ax[item[0],item[1]].annotate(item[8], xy=item[9],xycoords='axes fraction', fontsize=12)\n",
    "\n",
    "    fig.legend(loc=\"center left\",bbox_to_anchor=(1.00,0.5), frameon=True, title=\"x value:\", ncol=int(a/20)+1) # <======= # MODIFIED\n",
    "    plt.tight_layout()\n",
    "    plt.show()"
   ]
  },
  {
   "cell_type": "code",
   "execution_count": null,
   "metadata": {},
   "outputs": [],
   "source": [
    "# RUN THIS FUNCTION and set a to 20!\n",
    "myFigure(20)"
   ]
  },
  {
   "cell_type": "code",
   "execution_count": null,
   "metadata": {},
   "outputs": [],
   "source": [
    "# change a to any value you want (it might take forever to render above 200...)\n",
    "myFigure(200)"
   ]
  },
  {
   "cell_type": "code",
   "execution_count": null,
   "metadata": {},
   "outputs": [],
   "source": [
    "# EXPLORE : how low can you go?\n",
    "myFigure(3)"
   ]
  },
  {
   "cell_type": "code",
   "execution_count": null,
   "metadata": {},
   "outputs": [],
   "source": [
    "# We can also put our functions into a separate file that we can import as a package. \n",
    "# Above, press FILE>NEW>TEXT FILE, paste the entire myFigure function into that new text file, then save it as \"myPackage.py\"\n",
    "# Ho through this file and find all of the packages that we have imported, paste them at the top of the myPackage.py file\n",
    "# Now we can import this file as a python package!\n",
    "# NOTE: if you forgot to import a package and got an error here, you'll have to imprt that package to myPackage.py, save the file, then add \"%load_ext autoreload\" and %autoreload 2\" on separate lines to this cell so that the package is imported again \n",
    "\n",
    "%load_ext autoreload\n",
    "%autoreload 2\n",
    "\n",
    "import myPackage as mypac\n",
    "\n",
    "mypac.myFigure(20)"
   ]
  },
  {
   "cell_type": "code",
   "execution_count": null,
   "metadata": {},
   "outputs": [],
   "source": [
    "# You can also explicitly import only the myFigure() function and call it whatever you want \n",
    "\n",
    "from myPackage import myFigure as myfig\n",
    "\n",
    "myfig(20)"
   ]
  },
  {
   "cell_type": "code",
   "execution_count": null,
   "metadata": {},
   "outputs": [],
   "source": [
    "# See! You can call it whatever you want! But you should try to name things usefully... \n",
    "\n",
    "from myPackage import myFigure as i_am_batman\n",
    "\n",
    "i_am_batman(20)"
   ]
  },
  {
   "cell_type": "code",
   "execution_count": null,
   "metadata": {},
   "outputs": [],
   "source": [
    "# Finally, let's save this figure by creating a new function called \"mySavedFigure\" where we also add a \"savename\" argument\n",
    "\n",
    "def mySavedFigure(a,savename): # <======= # MODIFIED \n",
    "    h = np.linspace(0,10,a*5)\n",
    "    fit = stats.norm.pdf(h,5,1)*10  #this is a fitting indeed\n",
    "\n",
    "    fig, ax = plt.subplots(ncols=3,nrows=2,figsize=(12, 8),sharex=True,sharey=True)\n",
    "\n",
    "    for x in np.linspace(0,a,a+1,dtype=int):\n",
    "        ax[0,0].plot(np.linspace(x,0,11),label=x)\n",
    "        ax[0,1].plot(h,fit/4*x)\n",
    "        ax[0,2].plot(np.linspace(0,x,11))\n",
    "\n",
    "        ax[1,0].plot(np.linspace(x,a,11))\n",
    "        ax[1,1].plot(h,a-fit/4*x)\n",
    "        ax[1,2].plot(np.linspace(a,x,11))\n",
    "\n",
    "    plt.subplots_adjust(hspace = 0.03,wspace = 0.03)\n",
    "\n",
    "    #         {\"ax[i,j]\":(i,j,top,left,right,bottom,xlabel,ylabel,panel label,panel loc)\n",
    "    ax_dict = {\"ax[0,0]\":(0,0,False,True,False,False,None,\"y-label text (units)\",\"(i)\",(0.9,0.925)),\n",
    "               \"ax[0,1]\":(0,1,False,False,False,False,None,None,\"(ii)\",(0.9,0.925)),         \n",
    "               \"ax[0,2]\":(0,2,False,False,False,False,None,None,\"(iii)\",(0.025,0.925)), \n",
    "               \"ax[1,0]\":(1,0,False,True,False,True,\"x-label text (units)\",\"y-label text (units)\",\"(iv)\",(0.875,0.05)),\n",
    "               \"ax[1,1]\":(1,1,False,False,False,True,\"x-label text (units)\",None,\"(v)\",(0.9,0.05)),      \n",
    "               \"ax[1,2]\":(1,2,False,False,False,True,\"x-label text (units)\",None,\"(vi)\",(0.025,0.05))} \n",
    "\n",
    "    for key, item in ax_dict.items():\n",
    "        ax[item[0],item[1]].tick_params(which='both', top=item[2], left=item[3], right=item[4], bottom=item[5])\n",
    "        ax[item[0],item[1]].set_xlabel(item[6])\n",
    "        ax[item[0],item[1]].set_ylabel(item[7])\n",
    "        ax[item[0],item[1]].annotate(item[8], xy=item[9],xycoords='axes fraction', fontsize=12)\n",
    "\n",
    "    fig.legend(loc=\"center left\",bbox_to_anchor=(1.00,0.5), frameon=True, title=\"x value:\", ncol=int(a/20)+1)\n",
    "    plt.tight_layout()\n",
    "    plt.savefig(savename)   # <======= # NEW \n",
    "    plt.show()"
   ]
  },
  {
   "cell_type": "code",
   "execution_count": null,
   "metadata": {},
   "outputs": [],
   "source": [
    "mySavedFigure(20,\"savedFig.jpg\")"
   ]
  },
  {
   "cell_type": "code",
   "execution_count": null,
   "metadata": {},
   "outputs": [],
   "source": [
    "# EXPLORE: what happens if you change .jpg to .pdf?"
   ]
  },
  {
   "cell_type": "code",
   "execution_count": null,
   "metadata": {},
   "outputs": [],
   "source": [
    "# That's it! You should now be able to make simple figures using matplotlib!\n",
    "# Just as importamntly, you've been interacting with object-oriented programming!"
   ]
  },
  {
   "cell_type": "code",
   "execution_count": null,
   "metadata": {},
   "outputs": [],
   "source": [
    "# NOTE: You can make much more complicated graph layouts using a vairety of built-in tools\n",
    "# E.g. gridspec!  https://matplotlib.org/3.2.1/tutorials/intermediate/gridspec.html\n",
    "\n",
    "fig3 = plt.figure(constrained_layout=True)\n",
    "gs = fig3.add_gridspec(3, 3)\n",
    "f3_ax1 = fig3.add_subplot(gs[0, :])\n",
    "f3_ax1.set_title('gs[0, :]')\n",
    "f3_ax2 = fig3.add_subplot(gs[1, :-1])\n",
    "f3_ax2.set_title('gs[1, :-1]')\n",
    "f3_ax3 = fig3.add_subplot(gs[1:, -1])\n",
    "f3_ax3.set_title('gs[1:, -1]')\n",
    "f3_ax4 = fig3.add_subplot(gs[-1, 0])\n",
    "f3_ax4.set_title('gs[-1, 0]')\n",
    "f3_ax5 = fig3.add_subplot(gs[-1, -2])\n",
    "f3_ax5.set_title('gs[-1, -2]')\n",
    "plt.show()\n",
    "\n",
    "fig9 = plt.figure(constrained_layout=False)\n",
    "gs1 = fig9.add_gridspec(nrows=3, ncols=3, left=0.05, right=0.48,\n",
    "                        wspace=0.05)\n",
    "f9_ax1 = fig9.add_subplot(gs1[:-1, :])\n",
    "f9_ax2 = fig9.add_subplot(gs1[-1, :-1])\n",
    "f9_ax3 = fig9.add_subplot(gs1[-1, -1])\n",
    "\n",
    "gs2 = fig9.add_gridspec(nrows=3, ncols=3, left=0.55, right=0.98,\n",
    "                        hspace=0.05)\n",
    "f9_ax4 = fig9.add_subplot(gs2[:, :-1])\n",
    "f9_ax5 = fig9.add_subplot(gs2[:-1, -1])\n",
    "f9_ax6 = fig9.add_subplot(gs2[-1, -1])\n",
    "plt.show()\n"
   ]
  },
  {
   "cell_type": "code",
   "execution_count": null,
   "metadata": {},
   "outputs": [],
   "source": []
  }
 ],
 "metadata": {
  "kernelspec": {
   "display_name": "Python 3",
   "language": "python",
   "name": "python3"
  },
  "language_info": {
   "codemirror_mode": {
    "name": "ipython",
    "version": 3
   },
   "file_extension": ".py",
   "mimetype": "text/x-python",
   "name": "python",
   "nbconvert_exporter": "python",
   "pygments_lexer": "ipython3",
   "version": "3.8.2"
  }
 },
 "nbformat": 4,
 "nbformat_minor": 4
}
